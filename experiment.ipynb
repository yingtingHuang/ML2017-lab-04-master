{
 "cells": [
  {
   "cell_type": "code",
   "execution_count": 1,
   "metadata": {
    "collapsed": true
   },
   "outputs": [],
   "source": [
    "import numpy as np\n",
    "import pandas as pd\n",
    "import random  \n",
    "import matplotlib.pyplot as plt\n",
    "from sklearn.externals.joblib import Memory\n",
    "from sklearn.datasets import load_svmlight_file\n",
    "from sklearn.model_selection import train_test_split"
   ]
  },
  {
   "cell_type": "code",
   "execution_count": 17,
   "metadata": {
    "collapsed": true
   },
   "outputs": [],
   "source": [
    "def matrix_factorization_bySGD(R, P, Q, K,test,steps=100000, alpha=0.002, beta=0.02):\n",
    "    \"\"\"\n",
    "    Inputs:\n",
    "    - R     : a matrix to be factorized, dimension N x M\n",
    "    - P     : an initial matrix of dimension N x K\n",
    "    - Q     : an initial matrix of dimension M x K\n",
    "    - K     : the number of latent features\n",
    "    - steps : the maximum number of steps to perform the optimisation\n",
    "    - alpha : the learning rate\n",
    "    - beta  : the regularization parameter\n",
    "    \n",
    "    Onputs:\n",
    "    - the final matrices P \n",
    "    - the final matrices Q\n",
    "    - loss as single float\n",
    "    \"\"\"    \n",
    "    Q = Q.T\n",
    "    N,M = R.shape\n",
    "    loss=[]\n",
    "    for step in range(steps):\n",
    "        ind=random.sample(range(0,N),1)  \n",
    "        \n",
    "        for j in range(M):\n",
    "            if R[ind,j]>0:\n",
    "                ej = R[ind,j]- np.dot(P[ind,:],Q[:,j])\n",
    "                dP = alpha * (2 * ej * Q[:,j].T - beta * P[ind,:])\n",
    "                P[ind,:] += dP[0]\n",
    "                dQ =alpha * (2 * ej * P[ind,:] -beta*Q[:,j])\n",
    "                Q[:,j] += dQ[0]             \n",
    "\n",
    "        nR =np.dot( P , Q )# The score prediction matrix\n",
    "        \n",
    "        valloss=pow(nR[R>0] - R[R>0], 2).sum()\n",
    "        loss.append(valloss)\n",
    "        print('epoch={}\\t e={:.4f}'.format(step,valloss)  )      \n",
    "        if valloss < 0.01:\n",
    "            break\n",
    "    return P, Q.T,loss"
   ]
  },
  {
   "cell_type": "code",
   "execution_count": 4,
   "metadata": {},
   "outputs": [
    {
     "name": "stdout",
     "output_type": "stream",
     "text": [
      "         score                                              ...             \\\n",
      "movie_id  1    2    3    4    5    6    7    8    9    10   ...  1673 1674   \n",
      "user_id                                                     ...              \n",
      "939          0    0    0    0    0    0    0    0    5    0 ...     0    0   \n",
      "940          0    0    0    2    0    0    4    5    3    0 ...     0    0   \n",
      "941          5    0    0    0    0    0    4    0    0    0 ...     0    0   \n",
      "942          0    0    0    0    0    0    0    0    0    0 ...     0    0   \n",
      "943          0    5    0    0    0    0    0    0    3    0 ...     0    0   \n",
      "\n",
      "                                                  \n",
      "movie_id 1675 1676 1677 1678 1679 1680 1681 1682  \n",
      "user_id                                           \n",
      "939         0    0    0    0    0    0    0    0  \n",
      "940         0    0    0    0    0    0    0    0  \n",
      "941         0    0    0    0    0    0    0    0  \n",
      "942         0    0    0    0    0    0    0    0  \n",
      "943         0    0    0    0    0    0    0    0  \n",
      "\n",
      "[5 rows x 1682 columns]\n"
     ]
    }
   ],
   "source": [
    "# Data preparation \n",
    "root = 'D:\\\\ML2017-lab-04-master\\\\ml-100k\\\\'\n",
    "base1 = pd.read_csv(root+'base1.csv',header=None,names=[\"user_id\",\"movie_id\",\"score\",\"timestamp\"])\n",
    "test1 = pd.read_csv(root+'test1.csv',header=None,names=[\"user_id\",\"movie_id\",\"score\",\"timestamp\"])\n",
    "vld1 = test1\n",
    "vld1['score']=0\n",
    "train1=base1.append(vld1)\n",
    "trainData1=train1.pivot_table(['score'],index=['user_id'],columns=['movie_id'],fill_value=0)\n",
    "print(trainData1.tail())"
   ]
  },
  {
   "cell_type": "code",
   "execution_count": null,
   "metadata": {
    "collapsed": true,
    "scrolled": false
   },
   "outputs": [],
   "source": [
    "# Train\n",
    "R = np.array(trainData1)\n",
    "N,M = R.shape\n",
    "K = 5\n",
    "P = np.random.rand(N,K)\n",
    "Q = np.random.rand(M,K)\n",
    "nP_SGD, nQ_SGD ,loss_SGD= matrix_factorization_bySGD(R, P, Q, K,test1)\n",
    "nR_SGD =np.dot( nP_SGD , nQ_SGD.T )# The final score prediction matrix"
   ]
  },
  {
   "cell_type": "code",
   "execution_count": 19,
   "metadata": {},
   "outputs": [
    {
     "data": {
      "image/png": "[encoded data removed]",
      "text/plain": [
       "<matplotlib.figure.Figure at 0x1ba07128a20>"
      ]
     },
     "metadata": {},
     "output_type": "display_data"
    }
   ],
   "source": [
    "# Plot\n",
    "plt.plot(loss_SGD,'r',label='loss_SGD')\n",
    "plt.title('Loss Curve') # give plot a title\n",
    "plt.xlabel('Iterations')# make axis labels\n",
    "plt.ylabel('Loss')\n",
    "plt.legend()\n",
    "plt.show()"
   ]
  }
 ],
 "metadata": {
  "kernelspec": {
   "display_name": "Python 3",
   "language": "python",
   "name": "python3"
  },
  "language_info": {
   "codemirror_mode": {
    "name": "ipython",
    "version": 3
   },
   "file_extension": ".py",
   "mimetype": "text/x-python",
   "name": "python",
   "nbconvert_exporter": "python",
   "pygments_lexer": "ipython3",
   "version": "3.6.3"
  }
 },
 "nbformat": 4,
 "nbformat_minor": 2
}
